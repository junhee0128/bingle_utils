{
 "cells": [
  {
   "cell_type": "code",
   "execution_count": 1,
   "id": "57ecf85b-7396-4ccb-881d-98fcec9b5f27",
   "metadata": {},
   "outputs": [],
   "source": [
    "from dataclasses import dataclass\n",
    "from file_db.file_db_manager import FileDBManager\n",
    "\n",
    "@dataclass\n",
    "class MyRow:\n",
    "    key: str\n",
    "    name: str\n",
    "    age: int\n",
    "\n",
    "dbm = FileDBManager(base_dir=\"./\")\n",
    "\n",
    "db_name = \"my_database\"\n",
    "tb_name = \"my_table\"\n",
    "tb_new_name = \"my_new_table\""
   ]
  },
  {
   "cell_type": "code",
   "execution_count": 2,
   "id": "b1b529d6-7e7a-442e-964e-497cb2eba82b",
   "metadata": {},
   "outputs": [
    {
     "name": "stdout",
     "output_type": "stream",
     "text": [
      "- No database exists.\n",
      "Database 'my_database' already exists.\n",
      "- DB list: my_database\n"
     ]
    }
   ],
   "source": [
    "# DB 생성 테스트.\n",
    "dbm.show_dbs()\n",
    "dbm.create_db(name=db_name)\n",
    "\n",
    "try:\n",
    "    dbm.create_db(name=db_name)\n",
    "except Exception as e:\n",
    "    print(e)\n",
    "\n",
    "dbm.show_dbs()"
   ]
  },
  {
   "cell_type": "code",
   "execution_count": 3,
   "id": "6c089018-a74c-4ade-a683-bad766e047b8",
   "metadata": {},
   "outputs": [
    {
     "name": "stdout",
     "output_type": "stream",
     "text": [
      "- No table exists.\n",
      "Table 'my_table' created successfully.\n",
      "- Table list: my_table\n",
      "Table 'my_table' renamed to 'my_new_table'.\n",
      "- Table list: my_new_table\n"
     ]
    }
   ],
   "source": [
    "# 생성된 DB 조회.\n",
    "db = dbm.load_db(name=db_name)\n",
    "\n",
    "# 테이블 생성 및 명명 테스트.\n",
    "db.show_tables()\n",
    "db.create_table(name=tb_name, row_class=MyRow)\n",
    "db.show_tables()\n",
    "db.rename_table(old_name=tb_name, new_name=tb_new_name)\n",
    "db.show_tables()"
   ]
  },
  {
   "cell_type": "code",
   "execution_count": 4,
   "id": "203a6305-808b-4c63-8e81-f3134ecf791b",
   "metadata": {},
   "outputs": [
    {
     "name": "stdout",
     "output_type": "stream",
     "text": [
      "[Row(key='1', name='Alice', age=30), Row(key='1', name='Alice', age=30)]\n",
      "Row(key='2', name='Bob', age=25)\n",
      "[Row(key='5', name='John', age=24), Row(key='4', name='James', age=22), Row(key='1', name='Alice', age=30), Row(key='2', name='Bob', age=25), Row(key='1', name='Alice', age=30)]\n"
     ]
    }
   ],
   "source": [
    "# 생성된 테이블 조회.\n",
    "tb = db.load_table(name=tb_new_name)\n",
    "\n",
    "# 데이터 삽입 및 조회 테스트.\n",
    "tb.insert([\n",
    "    MyRow(key=\"1\", name=\"Alice\", age=30),\n",
    "    MyRow(key=\"2\", name=\"Bob\", age=25),\n",
    "    MyRow(key=\"1\", name=\"Alice\", age=30)\n",
    "])\n",
    "\n",
    "rows = tb.select(condition={\"name\": \"Alice\"})\n",
    "print(rows)\n",
    "\n",
    "row = tb.select_one(condition={\"name\": \"Bob\"})\n",
    "print(row)\n",
    "\n",
    "tb.insert_one({\"key\": \"4\", \"name\": \"James\", \"age\": 22})\n",
    "tb.insert_one(MyRow(key=\"5\", name=\"John\", age=24))\n",
    "\n",
    "rows = tb.select_all()\n",
    "print(rows)"
   ]
  },
  {
   "cell_type": "code",
   "execution_count": 5,
   "id": "aaeab49a-fe83-467b-a2ea-ac8aeabd0c28",
   "metadata": {},
   "outputs": [],
   "source": [
    "# DB 스냅샷 테스트.\n",
    "dbm.take_db_snapshot(name=db_name)"
   ]
  },
  {
   "cell_type": "code",
   "execution_count": 6,
   "id": "b4cca6bd-6206-435d-a3e3-c7b4c7c3f073",
   "metadata": {},
   "outputs": [
    {
     "name": "stdout",
     "output_type": "stream",
     "text": [
      "[Row(key='5', name='John', age=24), Row(key='4', name='James', age=22), Row(key='1', name='Alice', age=30), Row(key='1', name='Alice', age=30)]\n",
      "- No table exists.\n"
     ]
    }
   ],
   "source": [
    "# 데이터 삭제 테스트.\n",
    "tb.delete(condition={\"age\": 25})\n",
    "rows = tb.select_all()\n",
    "print(rows)\n",
    "\n",
    "# 테이블 삭제 테스트.\n",
    "db.drop_table(name=tb_new_name)\n",
    "db.show_tables()"
   ]
  },
  {
   "cell_type": "code",
   "execution_count": 7,
   "id": "ed9a1208-cd1b-4d54-9a94-fce153b805df",
   "metadata": {},
   "outputs": [
    {
     "name": "stdout",
     "output_type": "stream",
     "text": [
      "Table 'my_new_table' created successfully.\n",
      "'Some data have duplicate keys.'\n"
     ]
    }
   ],
   "source": [
    "# 중복키 데이터 삽입 테스트.\n",
    "db.create_table(name=tb_new_name, row_class=MyRow, primary_keys=[\"key\", \"name\"])\n",
    "tb = db.load_table(name=tb_new_name)\n",
    "tb.insert([MyRow(key=\"1\", name=\"Alice\", age=30)])\n",
    "try:\n",
    "    tb.insert([MyRow(key=\"1\", name=\"Alice\", age=40)])\n",
    "    db.drop_table(name=tb_new_name)\n",
    "except Exception as e:\n",
    "    print(e)"
   ]
  },
  {
   "cell_type": "code",
   "execution_count": 8,
   "id": "27d0eafe-e794-4058-bb68-a39e816a2183",
   "metadata": {},
   "outputs": [],
   "source": [
    "# DB 삭제 테스트.\n",
    "dbm.drop_db(name=db_name)"
   ]
  },
  {
   "cell_type": "code",
   "execution_count": 9,
   "id": "9282319f-658f-4878-8b1f-497935151078",
   "metadata": {},
   "outputs": [
    {
     "name": "stdout",
     "output_type": "stream",
     "text": [
      "- Deleted 2 folders and 4 files from 'C:\\Users\\junhe\\Documents\\Python Scripts\\bingle\\test\\file_db_data\\.trash'.\n",
      "- Deleted 1 folders and 2 files from 'C:\\Users\\junhe\\Documents\\Python Scripts\\bingle\\test\\file_db_data\\.snapshot'.\n",
      "- No database exists.\n"
     ]
    }
   ],
   "source": [
    "# 휴지통 및 스냅샷 삭제 테스트.\n",
    "dbm.clear_trash()\n",
    "dbm.clear_snapshot()\n",
    "\n",
    "dbm.show_dbs()"
   ]
  }
 ],
 "metadata": {
  "kernelspec": {
   "display_name": "py311_gpu",
   "language": "python",
   "name": "py311_gpu"
  },
  "language_info": {
   "codemirror_mode": {
    "name": "ipython",
    "version": 3
   },
   "file_extension": ".py",
   "mimetype": "text/x-python",
   "name": "python",
   "nbconvert_exporter": "python",
   "pygments_lexer": "ipython3",
   "version": "3.11.5"
  }
 },
 "nbformat": 4,
 "nbformat_minor": 5
}
